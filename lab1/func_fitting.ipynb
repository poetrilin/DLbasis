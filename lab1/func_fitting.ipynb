{
 "cells": [
  {
   "cell_type": "code",
   "execution_count": 1,
   "metadata": {},
   "outputs": [],
   "source": [
    "import torch\n",
    "import torch.nn as nn\n",
    "from torch import Tensor\n",
    "import torch.nn.functional as F\n",
    "import numpy as np"
   ]
  },
  {
   "cell_type": "code",
   "execution_count": 33,
   "metadata": {},
   "outputs": [],
   "source": [
    "class my_net(nn.Module):\n",
    "    def __init__(self, input_size: int, hidden_size: int, num_classes: int):\n",
    "        super(my_net, self).__init__()\n",
    "        self.fc1 = nn.Linear(input_size, hidden_size)\n",
    "        self.fc2 = nn.Linear(hidden_size, num_classes)\n",
    "        \n",
    "\n",
    "    def forward(self, x):\n",
    "        out1 = self.fc1(x)\n",
    "        out2 = self.active_func(out1)\n",
    "        out = self.fc2(out2)\n",
    "        out = self.active_func(out)\n",
    "        return out\n",
    "\n",
    "    def active_func(self, x):\n",
    "        return torch.relu(x)\n"
   ]
  },
  {
   "cell_type": "code",
   "execution_count": 29,
   "metadata": {},
   "outputs": [
    {
     "name": "stdout",
     "output_type": "stream",
     "text": [
      "torch.Size([160, 1])\n"
     ]
    }
   ],
   "source": [
    "# 设置随机种子以便复现\n",
    "torch.manual_seed(6)\n",
    "np.random.seed(6)\n",
    "\n",
    "def generate_data( N:int )->Tensor:\n",
    "    x = torch.linspace(1, 16, N).unsqueeze(1)  # 生成N个在[1, 16]范围内均匀分布的点作为x\n",
    "    y = torch.log2(x) + torch.cos(torch.tensor(np.pi/2) * x)  # 计算对应的y值\n",
    "    return x, y\n",
    "def split_dataset(x : Tensor, y : Tensor, train_ratio = 0.8, val_ratio = 0.1, test_ratio = 0.1):\n",
    "    total_size = x.size(0)\n",
    "    train_size = int(total_size * train_ratio)\n",
    "    val_size = int(total_size * val_ratio)\n",
    "    test_size = total_size - train_size - val_size\n",
    "    # 打乱数据集\n",
    "    indices = torch.randperm(total_size)\n",
    "    train_indices = indices[:train_size]\n",
    "    val_indices = indices[train_size:(train_size + val_size)]\n",
    "    test_indices = indices[(train_size + val_size):]\n",
    "    # 返回划分后的数据集\n",
    "    return x[train_indices,:], y[train_indices,:], x[val_indices,:], y[val_indices,:], \\\n",
    "                                                x[test_indices,:], y[test_indices,:]\n",
    "\n",
    "# 设置数据量\n",
    "N_values = [200, 2000, 10000]\n",
    "\n",
    "# 生成和划分数据集\n",
    "datasets = {}\n",
    "N = N_values[0]\n",
    "x, y = generate_data(N)\n",
    "train_x,train_y, val_x, val_y, test_x, test_y = split_dataset(x, y)\n",
    "\n",
    "print(train_x.size())"
   ]
  },
  {
   "cell_type": "code",
   "execution_count": 30,
   "metadata": {},
   "outputs": [],
   "source": [
    "# hyperparameters\n",
    "input_size = x.size()[1]\n",
    "output_size = y.size()[1]\n",
    "hidden_size = 500\n",
    "\n",
    "learning_rate = 0.001\n",
    "num_epochs =500\n",
    "\n",
    "model  = my_net(input_size, hidden_size, output_size)\n",
    "criterion = nn.CrossEntropyLoss()\n",
    "optimizer = torch.optim.Adam(model.parameters(), lr=learning_rate)"
   ]
  },
  {
   "cell_type": "code",
   "execution_count": 31,
   "metadata": {},
   "outputs": [],
   "source": [
    "# Train the model\n",
    "for epoch in range(num_epochs):\n",
    "    # Forward pass\n",
    "    outputs = model(train_x)\n",
    "    loss = criterion(outputs, train_y)\n",
    "    # Backward and optimize\n",
    "    optimizer.zero_grad()\n",
    "    loss.backward()\n",
    "    optimizer.step()\n"
   ]
  },
  {
   "cell_type": "code",
   "execution_count": 32,
   "metadata": {},
   "outputs": [
    {
     "data": {
      "image/png": "[encoded data removed]",
      "text/plain": [
       "<Figure size 640x480 with 1 Axes>"
      ]
     },
     "metadata": {},
     "output_type": "display_data"
    },
    {
     "name": "stdout",
     "output_type": "stream",
     "text": [
      "MSE: 6.7365217208862305\n"
     ]
    }
   ],
   "source": [
    "import matplotlib.pyplot as plt\n",
    "\n",
    "def visualize_validation_set(val_y, pred_y, x_range):\n",
    "    val_y = val_y.squeeze(1).detach().numpy()\n",
    "    pred_y = pred_y.squeeze(1).detach().numpy()\n",
    "    plt.scatter(x_range, val_y, label='Original data')\n",
    "    plt.scatter(x_range, pred_y, label='Predicted data')\n",
    "    plt.xlabel('x')\n",
    "    plt.ylabel('y')\n",
    "    plt.title('Validation Set - Original vs. Predicted')\n",
    "    plt.legend()\n",
    "    plt.show()\n",
    "\n",
    "# Visualize the validation set\n",
    "val_y_pred = model(val_x)\n",
    "visualize_validation_set(val_y, val_y_pred, val_x)\n",
    "mse_score = torch.mean((val_y_pred - val_y)**2)\n",
    "print('MSE:', mse_score.item())"
   ]
  },
  {
   "cell_type": "code",
   "execution_count": null,
   "metadata": {},
   "outputs": [],
   "source": []
  }
 ],
 "metadata": {
  "kernelspec": {
   "display_name": "dalle2",
   "language": "python",
   "name": "python3"
  },
  "language_info": {
   "codemirror_mode": {
    "name": "ipython",
    "version": 3
   },
   "file_extension": ".py",
   "mimetype": "text/x-python",
   "name": "python",
   "nbconvert_exporter": "python",
   "pygments_lexer": "ipython3",
   "version": "3.8.18"
  }
 },
 "nbformat": 4,
 "nbformat_minor": 2
}
